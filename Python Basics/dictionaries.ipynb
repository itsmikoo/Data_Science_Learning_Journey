{
 "cells": [
  {
   "cell_type": "code",
   "execution_count": 1,
   "id": "87fdfd10",
   "metadata": {},
   "outputs": [],
   "source": [
    "monthConversions = {\n",
    "    \"Jan\":\"January\",\n",
    "    \"Feb\": \"February\",\n",
    "    \"Mar\": \"March\",\n",
    "    \"Apr\": \"April\",\n",
    "    \"May\": \"May\",\n",
    "    \"Jun\": \"June\",\n",
    "    \"Jul\": \"July\",\n",
    "    \"Aug\": \"August\",\n",
    "    \"Sep\": \"September\",\n",
    "    \"Oct\": \"October\",\n",
    "    \"Nov\": \"November\",\n",
    "    \"Dec\": \"December\"\n",
    "}"
   ]
  },
  {
   "cell_type": "code",
   "execution_count": null,
   "id": "5dad6097",
   "metadata": {},
   "outputs": [
    {
     "name": "stdout",
     "output_type": "stream",
     "text": [
      "{'Jan': 'January', 'Feb': 'February', 'Mar': 'March', 'Apr': 'April', 'May': 'May', 'Jun': 'June', 'Jul': 'July', 'Aug': 'August', 'Sep': 'September', 'Oct': 'October', 'Nov': 'November', 'Dec': 'December'}\n"
     ]
    }
   ],
   "source": [
    "#print dictionary\n",
    "print(monthConversions)"
   ]
  },
  {
   "cell_type": "code",
   "execution_count": 5,
   "id": "4f60051b",
   "metadata": {},
   "outputs": [
    {
     "name": "stdout",
     "output_type": "stream",
     "text": [
      "November\n",
      "December\n"
     ]
    }
   ],
   "source": [
    "#print salah satu value dari key\n",
    "print(monthConversions[\"Nov\"])\n",
    "print(monthConversions.get(\"Dec\"))"
   ]
  },
  {
   "cell_type": "code",
   "execution_count": 7,
   "id": "13a56774",
   "metadata": {},
   "outputs": [
    {
     "name": "stdout",
     "output_type": "stream",
     "text": [
      "Not a valid key\n"
     ]
    }
   ],
   "source": [
    "#pake get untuk bikin default value untuk invalid key (key nya gaada di dict)\n",
    "print(monthConversions.get(\"Luv\", \"Not a valid key\"))"
   ]
  },
  {
   "cell_type": "code",
   "execution_count": null,
   "id": "393fa665",
   "metadata": {},
   "outputs": [],
   "source": []
  }
 ],
 "metadata": {
  "kernelspec": {
   "display_name": "base",
   "language": "python",
   "name": "python3"
  },
  "language_info": {
   "codemirror_mode": {
    "name": "ipython",
    "version": 3
   },
   "file_extension": ".py",
   "mimetype": "text/x-python",
   "name": "python",
   "nbconvert_exporter": "python",
   "pygments_lexer": "ipython3",
   "version": "3.13.5"
  }
 },
 "nbformat": 4,
 "nbformat_minor": 5
}
