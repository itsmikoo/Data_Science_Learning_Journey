{
 "cells": [
  {
   "cell_type": "code",
   "execution_count": null,
   "id": "5a396708",
   "metadata": {},
   "outputs": [],
   "source": [
    "coordinates = (4, 5)\n",
    "#tuple is immutable, it cant be changed, assigned, or multiplied"
   ]
  },
  {
   "cell_type": "code",
   "execution_count": 2,
   "id": "0823d4d4",
   "metadata": {},
   "outputs": [
    {
     "name": "stdout",
     "output_type": "stream",
     "text": [
      "4\n"
     ]
    }
   ],
   "source": [
    "#print tuple\n",
    "print(coordinates[0])"
   ]
  },
  {
   "cell_type": "code",
   "execution_count": 3,
   "id": "19ed4de9",
   "metadata": {},
   "outputs": [],
   "source": [
    "coordinates2 = [(4,5), (6,7), (80,34)]"
   ]
  },
  {
   "cell_type": "code",
   "execution_count": null,
   "id": "c4273260",
   "metadata": {},
   "outputs": [],
   "source": []
  }
 ],
 "metadata": {
  "kernelspec": {
   "display_name": "base",
   "language": "python",
   "name": "python3"
  },
  "language_info": {
   "codemirror_mode": {
    "name": "ipython",
    "version": 3
   },
   "file_extension": ".py",
   "mimetype": "text/x-python",
   "name": "python",
   "nbconvert_exporter": "python",
   "pygments_lexer": "ipython3",
   "version": "3.13.5"
  }
 },
 "nbformat": 4,
 "nbformat_minor": 5
}
