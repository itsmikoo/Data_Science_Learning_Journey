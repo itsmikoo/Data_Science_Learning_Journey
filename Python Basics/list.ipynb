{
 "cells": [
  {
   "cell_type": "code",
   "execution_count": 13,
   "id": "2f32bdbf",
   "metadata": {},
   "outputs": [],
   "source": [
    "lucky_numbers = [4,8,9,10,12]\n",
    "friends = [\"jamie\", \"rose\", \"kathrina\", \"sofia\", \"ben\"]"
   ]
  },
  {
   "cell_type": "code",
   "execution_count": 6,
   "id": "c1d91f9b",
   "metadata": {},
   "outputs": [],
   "source": [
    "#masukin lucky numbers ke friends\n",
    "friends.extend(lucky_numbers)"
   ]
  },
  {
   "cell_type": "code",
   "execution_count": 7,
   "id": "d706c780",
   "metadata": {},
   "outputs": [],
   "source": [
    "#append elements ke friends paling akhir\n",
    "friends.append(\"tom\")"
   ]
  },
  {
   "cell_type": "code",
   "execution_count": 15,
   "id": "451ab9cf",
   "metadata": {},
   "outputs": [],
   "source": [
    "#append elements ke tengah\n",
    "friends.insert(1, \"kelly\")"
   ]
  },
  {
   "cell_type": "code",
   "execution_count": 9,
   "id": "307a01a4",
   "metadata": {},
   "outputs": [],
   "source": [
    "#remove element\n",
    "friends.remove(\"tom\")"
   ]
  },
  {
   "cell_type": "code",
   "execution_count": 10,
   "id": "a2a726fc",
   "metadata": {},
   "outputs": [
    {
     "data": {
      "text/plain": [
       "12"
      ]
     },
     "execution_count": 10,
     "metadata": {},
     "output_type": "execute_result"
    }
   ],
   "source": [
    "#remove last element\n",
    "friends.pop()"
   ]
  },
  {
   "cell_type": "code",
   "execution_count": 11,
   "id": "fd5ef7a6",
   "metadata": {},
   "outputs": [],
   "source": [
    "#hapus semua element\n",
    "friends.clear()"
   ]
  },
  {
   "cell_type": "code",
   "execution_count": null,
   "id": "1bb0c644",
   "metadata": {},
   "outputs": [
    {
     "name": "stdout",
     "output_type": "stream",
     "text": [
      "3\n"
     ]
    }
   ],
   "source": [
    "#check index element, kalo gaada elementnya bakal error\n",
    "print(friends.index(\"sofia\"))"
   ]
  },
  {
   "cell_type": "code",
   "execution_count": null,
   "id": "9ac55b42",
   "metadata": {},
   "outputs": [
    {
     "name": "stdout",
     "output_type": "stream",
     "text": [
      "1\n"
     ]
    }
   ],
   "source": [
    "#check element yang sama\n",
    "print(friends.count(\"sofia\"))"
   ]
  },
  {
   "cell_type": "code",
   "execution_count": null,
   "id": "e32708fb",
   "metadata": {},
   "outputs": [],
   "source": [
    "#sort list in ascending order\n",
    "friends.sort()\n",
    "lucky_numbers.sort()"
   ]
  },
  {
   "cell_type": "code",
   "execution_count": null,
   "id": "41e12dbb",
   "metadata": {},
   "outputs": [
    {
     "name": "stdout",
     "output_type": "stream",
     "text": [
      "[12, 10, 9, 8, 4]\n"
     ]
    }
   ],
   "source": [
    "#sort list in desc order\n",
    "lucky_numbers.reverse()\n",
    "print(lucky_numbers)"
   ]
  },
  {
   "cell_type": "code",
   "execution_count": null,
   "id": "61bd4a36",
   "metadata": {},
   "outputs": [],
   "source": [
    "#copy list ke list baru\n",
    "friends2 = friends.copy()"
   ]
  }
 ],
 "metadata": {
  "kernelspec": {
   "display_name": "base",
   "language": "python",
   "name": "python3"
  },
  "language_info": {
   "codemirror_mode": {
    "name": "ipython",
    "version": 3
   },
   "file_extension": ".py",
   "mimetype": "text/x-python",
   "name": "python",
   "nbconvert_exporter": "python",
   "pygments_lexer": "ipython3",
   "version": "3.13.5"
  }
 },
 "nbformat": 4,
 "nbformat_minor": 5
}
